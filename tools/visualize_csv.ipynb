{
 "cells": [
  {
   "cell_type": "code",
   "execution_count": 6,
   "metadata": {},
   "outputs": [],
   "source": [
    "import pandas as pd\n",
    "import numpy as np\n",
    "\n",
    "workdir='/data/mengjin/DeepAtrophyPackage/DeepAtrophy/PAIIR'\n",
    "\n",
    "test_double_pair2 = pd.read_csv(workdir + '/test_double_pair2.csv')\n",
    "common_subj_2 = pd.read_csv(workdir + '/common_subj_2.csv')\n",
    "weighted_atrophy = pd.read_csv(workdir + '/weighted_atrophy.csv')\n"
   ]
  }
 ],
 "metadata": {
  "kernelspec": {
   "display_name": "Python 3",
   "language": "python",
   "name": "python3"
  },
  "language_info": {
   "codemirror_mode": {
    "name": "ipython",
    "version": 3
   },
   "file_extension": ".py",
   "mimetype": "text/x-python",
   "name": "python",
   "nbconvert_exporter": "python",
   "pygments_lexer": "ipython3",
   "version": "3.11.7"
  }
 },
 "nbformat": 4,
 "nbformat_minor": 2
}
